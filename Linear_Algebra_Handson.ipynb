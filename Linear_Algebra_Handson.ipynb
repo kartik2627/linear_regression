{
  "nbformat": 4,
  "nbformat_minor": 0,
  "metadata": {
    "colab": {
      "provenance": [],
      "include_colab_link": true
    },
    "kernelspec": {
      "name": "python3",
      "display_name": "Python 3"
    },
    "language_info": {
      "name": "python"
    }
  },
  "cells": [
    {
      "cell_type": "markdown",
      "metadata": {
        "id": "view-in-github",
        "colab_type": "text"
      },
      "source": [
        "<a href=\"https://colab.research.google.com/github/kartik2627/linear_regression/blob/main/Linear_Algebra_Handson.ipynb\" target=\"_parent\"><img src=\"https://colab.research.google.com/assets/colab-badge.svg\" alt=\"Open In Colab\"/></a>"
      ]
    },
    {
      "cell_type": "code",
      "execution_count": null,
      "metadata": {
        "id": "7SPBmIbA-vsF"
      },
      "outputs": [],
      "source": [
        "# importing the numpy\n",
        "import numpy as np"
      ]
    },
    {
      "cell_type": "code",
      "source": [
        "# Defining Matrices\n",
        "A = np.array([[1,2],[3,4], [5,6]])\n",
        "A"
      ],
      "metadata": {
        "colab": {
          "base_uri": "https://localhost:8080/"
        },
        "id": "d_b0sm79VUf5",
        "outputId": "f6e1ab6b-ca35-47c7-a809-347815a46214"
      },
      "execution_count": null,
      "outputs": [
        {
          "output_type": "execute_result",
          "data": {
            "text/plain": [
              "array([[1, 2],\n",
              "       [3, 4],\n",
              "       [5, 6]])"
            ]
          },
          "metadata": {},
          "execution_count": 2
        }
      ]
    },
    {
      "cell_type": "code",
      "source": [
        "B = np.array([[9,8], [7,6], [5,4]])\n",
        "B"
      ],
      "metadata": {
        "colab": {
          "base_uri": "https://localhost:8080/"
        },
        "id": "-nMMNqfKVfim",
        "outputId": "d93cb6b9-505a-406a-bff4-ce3da1911f43"
      },
      "execution_count": null,
      "outputs": [
        {
          "output_type": "execute_result",
          "data": {
            "text/plain": [
              "array([[9, 8],\n",
              "       [7, 6],\n",
              "       [5, 4]])"
            ]
          },
          "metadata": {},
          "execution_count": 3
        }
      ]
    },
    {
      "cell_type": "code",
      "source": [
        "len(A)"
      ],
      "metadata": {
        "colab": {
          "base_uri": "https://localhost:8080/"
        },
        "id": "tJ6F3j5iV-YK",
        "outputId": "bf016c29-defe-4feb-baab-a3609077ec7f"
      },
      "execution_count": null,
      "outputs": [
        {
          "output_type": "execute_result",
          "data": {
            "text/plain": [
              "3"
            ]
          },
          "metadata": {},
          "execution_count": 4
        }
      ]
    },
    {
      "cell_type": "code",
      "source": [
        "(A[0])"
      ],
      "metadata": {
        "colab": {
          "base_uri": "https://localhost:8080/"
        },
        "id": "OFizVm67WDqs",
        "outputId": "1621394c-4ed9-4803-d4c0-205455578fbf"
      },
      "execution_count": null,
      "outputs": [
        {
          "output_type": "execute_result",
          "data": {
            "text/plain": [
              "array([1, 2])"
            ]
          },
          "metadata": {},
          "execution_count": 6
        }
      ]
    },
    {
      "cell_type": "code",
      "source": [
        "A[1][1]"
      ],
      "metadata": {
        "colab": {
          "base_uri": "https://localhost:8080/"
        },
        "id": "GDxfuz2cWDoB",
        "outputId": "b5f8e3a6-edff-4439-a684-e5abfd88af08"
      },
      "execution_count": null,
      "outputs": [
        {
          "output_type": "execute_result",
          "data": {
            "text/plain": [
              "4"
            ]
          },
          "metadata": {},
          "execution_count": 8
        }
      ]
    },
    {
      "cell_type": "code",
      "source": [],
      "metadata": {
        "id": "o5I1GvZEWDjl"
      },
      "execution_count": null,
      "outputs": []
    },
    {
      "cell_type": "markdown",
      "source": [
        "Mathematical Operations\n",
        "1. Addition\n",
        "2. Subtraction\n",
        "3. Scalar Multiplication"
      ],
      "metadata": {
        "id": "5fVyN-nfV0rQ"
      }
    },
    {
      "cell_type": "code",
      "source": [
        "# Addition of A and B\n",
        "add_mat = np.array([[0,0],[0,0],[0,0]])\n",
        "\n",
        "for i in range(len(A)):\n",
        "  for j in range(len(A[0])):\n",
        "    add_mat[i][j] = A[i][j] + B[i][j]\n",
        "\n",
        "add_mat"
      ],
      "metadata": {
        "colab": {
          "base_uri": "https://localhost:8080/"
        },
        "id": "c6ivYK_6Vw3N",
        "outputId": "7f6f7c33-bd94-4e9a-da0f-d2f0c0f9525a"
      },
      "execution_count": null,
      "outputs": [
        {
          "output_type": "execute_result",
          "data": {
            "text/plain": [
              "array([[10, 10],\n",
              "       [10, 10],\n",
              "       [10, 10]])"
            ]
          },
          "metadata": {},
          "execution_count": 9
        }
      ]
    },
    {
      "cell_type": "code",
      "source": [
        "# Subtraction of A and B\n",
        "sub_mat = np.array([[0,0],[0,0],[0,0]])\n",
        "\n",
        "for i in range(len(A)):\n",
        "  for j in range(len(A[0])):\n",
        "    sub_mat[i][j] = A[i][j] - B[i][j]\n",
        "\n",
        "sub_mat"
      ],
      "metadata": {
        "colab": {
          "base_uri": "https://localhost:8080/"
        },
        "id": "nL7l_2axXDR5",
        "outputId": "c1e36fdc-13a7-4445-9b50-75cbc776a9c3"
      },
      "execution_count": null,
      "outputs": [
        {
          "output_type": "execute_result",
          "data": {
            "text/plain": [
              "array([[-8, -6],\n",
              "       [-4, -2],\n",
              "       [ 0,  2]])"
            ]
          },
          "metadata": {},
          "execution_count": 10
        }
      ]
    },
    {
      "cell_type": "code",
      "source": [
        "# Multiplication of A and scalar\n",
        "mult_mat = np.array([[0,0],[0,0],[0,0]])\n",
        "scalar = 5\n",
        "for i in range(len(A)):\n",
        "  for j in range(len(A[0])):\n",
        "    mult_mat[i][j] = A[i][j] * scalar\n",
        "\n",
        "mult_mat"
      ],
      "metadata": {
        "colab": {
          "base_uri": "https://localhost:8080/"
        },
        "id": "1f7FKTuLXPH6",
        "outputId": "3bc5ef21-9102-4edb-e0ea-f398d9aa978f"
      },
      "execution_count": null,
      "outputs": [
        {
          "output_type": "execute_result",
          "data": {
            "text/plain": [
              "array([[ 5, 10],\n",
              "       [15, 20],\n",
              "       [25, 30]])"
            ]
          },
          "metadata": {},
          "execution_count": 11
        }
      ]
    },
    {
      "cell_type": "code",
      "source": [
        "# Multplication of A with scalar easy way\n",
        "mul_mat2 = A * scalar\n",
        "mul_mat2"
      ],
      "metadata": {
        "colab": {
          "base_uri": "https://localhost:8080/"
        },
        "id": "AnyKXB1kXgHR",
        "outputId": "f088a95f-e23a-4b26-a3b6-ef46faf0d10c"
      },
      "execution_count": null,
      "outputs": [
        {
          "output_type": "execute_result",
          "data": {
            "text/plain": [
              "array([[ 5, 10],\n",
              "       [15, 20],\n",
              "       [25, 30]])"
            ]
          },
          "metadata": {},
          "execution_count": 12
        }
      ]
    },
    {
      "cell_type": "code",
      "source": [],
      "metadata": {
        "id": "RmnLc0peXpKE"
      },
      "execution_count": null,
      "outputs": []
    }
  ]
}